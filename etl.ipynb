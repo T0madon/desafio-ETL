{
 "cells": [
  {
   "cell_type": "markdown",
   "id": "494b4817-8be1-4286-8c0c-a5afa9b89fc1",
   "metadata": {},
   "source": [
    "<h1><b>ETL DADOS - WELLBE</b></h1>"
   ]
  },
  {
   "cell_type": "markdown",
   "id": "060428f1-b25d-448b-b78e-c6713c64509a",
   "metadata": {},
   "source": [
    "<p><b>A linha de raciocínio seguida foi a seguinte:</b></p>\n",
    "\n",
    "<ul>\n",
    "    <li>Obter os dados vindos do arquivo fornecido</li>\n",
    "    <li>Extrair os dados utilizando pandas</li>\n",
    "    <li>Passar os dados extraídos para um dataframe (df)</li>\n",
    "    <li>Tratar os dados com pandas e numpy</li>\n",
    "    <ul>\n",
    "        <li>Algumas colunas possuem valores vazios/diferentes dos valores padrão</li>\n",
    "        <li>Localizar o departamento caso esteja faltando</li>\n",
    "        <li>Remover as colunas que não têm dados</li>\n",
    "        <li>Conferir se todos os dados da respectiva coluna estão no mesmo formato (texto, número)</li>\n",
    "        <li>Verificar se os valores de custo fazem sentido </li>\n",
    "        <li>Deixar o df padronizado</li>\n",
    "    </ul>\n",
    "    <li>Escrever os dados tratados no banco de dados</li>\n",
    "</ul>"
   ]
  },
  {
   "cell_type": "markdown",
   "id": "76c9f674-b45b-4c2c-be54-9633912a02f5",
   "metadata": {},
   "source": [
    "<h2>EXTRACT - Extraindo os dados da tabela fornecida</h2>"
   ]
  },
  {
   "cell_type": "markdown",
   "id": "04063af2-bd89-4711-91a0-7f06d47d9998",
   "metadata": {},
   "source": [
    "<p>Importando as ferramentas necessárias</p>"
   ]
  },
  {
   "cell_type": "code",
   "execution_count": 2,
   "id": "c76ba3d1-b5b2-404d-aabb-dbcf635fa3ac",
   "metadata": {},
   "outputs": [],
   "source": [
    "import pandas as pd\n",
    "import mysql.connector\n",
    "import numpy as np\n",
    "import dotenv\n",
    "import os"
   ]
  },
  {
   "cell_type": "markdown",
   "id": "d2583fbb-808d-4000-9a43-5613771a81fe",
   "metadata": {},
   "source": [
    "<h3>Lendo a planilha a partir da linha que contém os dados</h3>"
   ]
  },
  {
   "cell_type": "code",
   "execution_count": 3,
   "id": "e68af90a-a3e4-4c49-a43b-924ca3002941",
   "metadata": {},
   "outputs": [],
   "source": [
    "df = pd.read_excel(\"Dados_Desafio.xlsx\", skiprows=13, engine=\"openpyxl\")"
   ]
  },
  {
   "cell_type": "markdown",
   "id": "4efe6e9e-fd85-4eaa-a6ee-a9052c32361b",
   "metadata": {},
   "source": [
    "<h3>Renomeando as colunas</h3>"
   ]
  },
  {
   "cell_type": "code",
   "execution_count": 4,
   "id": "fed47942-440d-4e67-ac00-62b3a07c9d00",
   "metadata": {},
   "outputs": [],
   "source": [
    "df.columns = [\"codigo\", \"custo\", \"identificacao\", \"funcionario\", \"departamento\", \"data_atestado\", \"especialidade\", \"motivo\", \"lider\"]"
   ]
  },
  {
   "cell_type": "markdown",
   "id": "3c4903ed-b72e-41c0-a9bc-342ef6d6e665",
   "metadata": {},
   "source": [
    "<h2>TRANSFORM - Tratando os dados extraídos no df</h2>"
   ]
  },
  {
   "cell_type": "markdown",
   "id": "f6977ec6-8df6-4d38-ae49-af387daa2424",
   "metadata": {},
   "source": [
    "<h3>Removendo as colunas que estão vazias</h3>"
   ]
  },
  {
   "cell_type": "code",
   "execution_count": 5,
   "id": "a2c3c442-75d7-4c51-8ab6-5f70648846f4",
   "metadata": {},
   "outputs": [],
   "source": [
    "df.dropna(axis=1, how='all', inplace=True)"
   ]
  },
  {
   "cell_type": "markdown",
   "id": "1b4ed374-5dda-4d52-922e-52d79a37b3e3",
   "metadata": {},
   "source": [
    "<h3>Removendo os espaços presentes da coluna e renomeando os valores vazios</h3>"
   ]
  },
  {
   "cell_type": "code",
   "execution_count": 6,
   "id": "c0583f09-90ce-49bb-8441-b63fa7cda1c1",
   "metadata": {},
   "outputs": [],
   "source": [
    "df[\"departamento\"] = df[\"departamento\"].astype(str).str.strip\n",
    "df[\"departamento\"] = df[\"departamento\"].replace([\"\", \"nan\", \"None\"], np.nan)"
   ]
  },
  {
   "cell_type": "markdown",
   "id": "01d4bb7e-8961-4d72-b3e4-e677d3ae3f1e",
   "metadata": {},
   "source": [
    "<h3>Conferindo se é possível deduzir o departamento caso esteja faltando</h3>\n",
    "\n",
    "<p>Observou-se que alguns funcionários estavam sem seu departamento, com isso, a seguinte função (preencher_departamento) tem como finalidade descobrir se o departamento está vazio, em seguida olha para o funcionário anterior/posterior e verifica se ambos tem o mesmo nome, em caso positivo, atribui-se o mesmo departamento, caso contrário, aplica-se o valor 'DESCONHECIDO'</p>"
   ]
  },
  {
   "cell_type": "code",
   "execution_count": 7,
   "id": "65b34e84-9436-4929-9293-c878f0bafb8a",
   "metadata": {},
   "outputs": [],
   "source": [
    "def preencher_departamento(df):\n",
    "    for idx in range(len(df)):\n",
    "        if pd.isna(df.at[idx, \"departamento\"]) or df.at[idx, \"departamento\"] == \"\":\n",
    "            # Verificar a linha acima (se existir)\n",
    "            if idx > 0 and df.at[idx, \"funcionario\"] == df.at[idx - 1, \"funcionario\"]:\n",
    "                df.at[idx, \"departamento\"] = df.at[idx - 1, \"departamento\"]\n",
    "            # Verificar a linha abaixo (se existir)\n",
    "            elif idx < len(df) - 1 and df.at[idx, \"funcionario\"] == df.at[idx + 1, \"funcionario\"]:\n",
    "                df.at[idx, \"departamento\"] = df.at[idx + 1, \"departamento\"]\n",
    "            # Se não encontrar, mantém \"DESCONHECIDO\"\n",
    "            else:\n",
    "                df.at[idx, \"departamento\"] = \"DESCONHECIDO\"\n",
    "    return df\n",
    "\n",
    "df = preencher_departamento(df)"
   ]
  },
  {
   "cell_type": "markdown",
   "id": "7b3e3fcc-4e3c-4b69-81fc-c06f5ab1f27e",
   "metadata": {},
   "source": [
    "<h3>Convertendo a coluna \"data_atestado\" para o formato de data</h3>"
   ]
  },
  {
   "cell_type": "code",
   "execution_count": 8,
   "id": "6a1ec9fc-a12b-4c1f-98a3-1cb507298abb",
   "metadata": {},
   "outputs": [],
   "source": [
    "df[\"data_atestado\"] = pd.to_datetime(df[\"data_atestado\"], dayfirst=True, errors='coerce')"
   ]
  },
  {
   "cell_type": "markdown",
   "id": "f52062a8-b371-4428-b14d-75aa2905d02f",
   "metadata": {},
   "source": [
    "<h3>Tratamento da coluna \"custo\" (alguns itens possuem \"--\" ou são itens vazios, esses serão substituídos por None, que representa o Null em SQL</h3>\n",
    "\n",
    "<p>Esse tratamento utiliza a função corrigir_custo, implementada também para substituir a \",\" por \".\" nas casas decimais e converter para número</p>"
   ]
  },
  {
   "cell_type": "code",
   "execution_count": 9,
   "id": "f5291a85-75e2-4aa8-86ca-65e3e142e76c",
   "metadata": {},
   "outputs": [],
   "source": [
    "def corrigir_custo(valor):\n",
    "    if pd.isna(valor) or valor == \"--\":\n",
    "        return None  \n",
    "    try:\n",
    "        return float(str(valor).replace(\",\", \".\"))  \n",
    "    except ValueError:\n",
    "        return None  \n",
    "\n",
    "df[\"custo\"] = df[\"custo\"].apply(corrigir_custo)"
   ]
  },
  {
   "cell_type": "markdown",
   "id": "a1393ad9-68e4-4a5b-bcf1-833fb8313412",
   "metadata": {},
   "source": [
    "<h3>Preenchendo os valores vazios presentes nas colunas de texto com \"Desconhecido\"</h3>"
   ]
  },
  {
   "cell_type": "code",
   "execution_count": 10,
   "id": "c467ff22-ffef-4fb2-b5e1-60c421d26af9",
   "metadata": {},
   "outputs": [],
   "source": [
    "df.fillna({\"especialidade\": \"Desconhecido\", \"motivo\": \"Desconhecido\"}, inplace=True)"
   ]
  },
  {
   "cell_type": "markdown",
   "id": "b6ddc75f-7a21-4c18-b507-22b5a2c01de8",
   "metadata": {},
   "source": [
    "<h3>Remove as linhas do dataframe que não possuam código</h3>\n",
    "<p>O código do atestado é a identificação primária dos dados, caso não possua, o erro é tratado</p>"
   ]
  },
  {
   "cell_type": "code",
   "execution_count": 11,
   "id": "9b2515d0-b8b3-45b8-a140-900eb7229e63",
   "metadata": {},
   "outputs": [],
   "source": [
    "df = df.dropna(subset=[\"codigo\"])"
   ]
  },
  {
   "cell_type": "markdown",
   "id": "57ab7831-6681-49e4-94fb-af86534442d9",
   "metadata": {},
   "source": [
    "<h2>LOAD - Carregando os dados tratados no banco de dados</h2>"
   ]
  },
  {
   "cell_type": "markdown",
   "id": "a07605f0-0758-4439-bd52-26b973d56688",
   "metadata": {},
   "source": [
    "<h3>Estabelecendo a conexão com o banco de dados local</h3>"
   ]
  },
  {
   "cell_type": "code",
   "execution_count": 14,
   "id": "79026634-31fd-4695-accc-7e623214b247",
   "metadata": {},
   "outputs": [],
   "source": [
    "dotenv.load_dotenv()\n",
    "conn = mysql.connector.connect(\n",
    "    host=os.environ['HOST_DB'],\n",
    "    user=os.environ['USER_DB'],  \n",
    "    password=os.environ['PASSWORD_DB'],  \n",
    "    database=os.environ['DATABASE']\n",
    ")\n",
    "cursor = conn.cursor()"
   ]
  },
  {
   "cell_type": "markdown",
   "id": "01ba0145-cb22-459c-a0e3-6d5c2180836a",
   "metadata": {},
   "source": [
    "<h3>Inserindo os dados no banco</h3>\n",
    "<p>Antes de inserir no banco, os valores \"NaN\" (Not a Number) presentes, foram convertidos para \"None\", que o MySQL reconhece como \"Null\"</p>\n",
    "<p>O banco é primeiramente limpo, caso já existam dados</p>"
   ]
  },
  {
   "cell_type": "code",
   "execution_count": 13,
   "id": "431905e1-385c-4646-ab1a-1c847cc5ab9c",
   "metadata": {},
   "outputs": [
    {
     "name": "stdout",
     "output_type": "stream",
     "text": [
      "Erro: Python type method cannot be converted\n"
     ]
    }
   ],
   "source": [
    "try:\n",
    "    cursor.execute(\"DELETE FROM atestados\")\n",
    "    cursor.execute(\"ALTER TABLE atestados AUTO_INCREMENT = 1\")\n",
    "    \n",
    "    for _, row in df.iterrows():\n",
    "        sql = \"\"\"\n",
    "            INSERT INTO atestados (codigo, custo, funcionario, departamento, data_atestado, especialidade, motivo, lider)\n",
    "            VALUES (%s, %s, %s, %s, %s, %s, %s, %s)\n",
    "        \"\"\"\n",
    "        valores = (\n",
    "            row[\"codigo\"], row[\"custo\"], row[\"funcionario\"], row[\"departamento\"],\n",
    "            row[\"data_atestado\"], row[\"especialidade\"], row[\"motivo\"], row[\"lider\"]\n",
    "        )\n",
    "        valores = [None if isinstance(v, float) and np.isnan(v) else v for v in valores]\n",
    "        cursor.execute(sql, valores)\n",
    "    \n",
    "    conn.commit()\n",
    "\n",
    "except Exception as e:\n",
    "    print(f'Erro: {e}')\n",
    "    conn.rollback()\n",
    "\n",
    "finally:\n",
    "    cursor.close()\n",
    "    conn.close()"
   ]
  }
 ],
 "metadata": {
  "kernelspec": {
   "display_name": "Python 3 (ipykernel)",
   "language": "python",
   "name": "python3"
  },
  "language_info": {
   "codemirror_mode": {
    "name": "ipython",
    "version": 3
   },
   "file_extension": ".py",
   "mimetype": "text/x-python",
   "name": "python",
   "nbconvert_exporter": "python",
   "pygments_lexer": "ipython3",
   "version": "3.12.3"
  }
 },
 "nbformat": 4,
 "nbformat_minor": 5
}
